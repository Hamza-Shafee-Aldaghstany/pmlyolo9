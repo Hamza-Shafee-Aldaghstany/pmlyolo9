{
 "cells": [
  {
   "cell_type": "code",
   "execution_count": 1,
   "metadata": {},
   "outputs": [
    {
     "name": "stdout",
     "output_type": "stream",
     "text": [
      "Image names extracted to train2017.txt, val2017.txt, and .\\test-dev2017.txt.\n"
     ]
    }
   ],
   "source": [
    "import os\n",
    "\n",
    "def extract_image_names(image_dir, output_file):\n",
    "    # Get all files in the specified directory\n",
    "    image_names = [f for f in os.listdir(image_dir) if f.lower().endswith(('.png', '.jpg', '.jpeg', '.bmp', '.gif'))]\n",
    "    \n",
    "    # Write image names to the output file\n",
    "    with open(output_file, 'w') as f:\n",
    "        for name in image_names:\n",
    "            f.write(f\"{name}\\n\")\n",
    "\n",
    "# Specify your directories here\n",
    "train_dir = r'E:\\PML_yollo9\\yolov9\\data\\Aerial View Vehicle Detection.v1i.yolov8\\train\\images'  # Update this path\n",
    "val_dir = r'E:\\PML_yollo9\\yolov9\\data\\Aerial View Vehicle Detection.v1i.yolov8\\valid\\images'        # Update this path\n",
    "test_dir = r'E:\\PML_yollo9\\yolov9\\data\\Aerial View Vehicle Detection.v1i.yolov8\\test\\images'  # Update this path\n",
    "\n",
    "# Specify output file names\n",
    "train_output_file = 'train2017.txt'\n",
    "val_output_file = 'val2017.txt'\n",
    "test_output_file = r'.\\test-dev2017.txt'\n",
    "\n",
    "# Extract image names and save to text files\n",
    "extract_image_names(train_dir, train_output_file)\n",
    "extract_image_names(val_dir, val_output_file)\n",
    "extract_image_names(test_dir, test_output_file)\n",
    "\n",
    "print(f\"Image names extracted to {train_output_file}, {val_output_file}, and {test_output_file}.\")\n"
   ]
  },
  {
   "cell_type": "code",
   "execution_count": 2,
   "metadata": {},
   "outputs": [
    {
     "name": "stdout",
     "output_type": "stream",
     "text": [
      "Restructuring complete.\n"
     ]
    }
   ],
   "source": [
    "import os\n",
    "import shutil\n",
    "\n",
    "def restructure_dataset(base_dir):\n",
    "    # Define new directories for images and labels\n",
    "    new_images_dir = os.path.join(base_dir, 'images')\n",
    "    new_labels_dir = os.path.join(base_dir, 'labels')\n",
    "\n",
    "    # Create new directories for train, valid, test\n",
    "    os.makedirs(os.path.join(new_images_dir, 'train'), exist_ok=True)\n",
    "    os.makedirs(os.path.join(new_images_dir, 'valid'), exist_ok=True)\n",
    "    os.makedirs(os.path.join(new_images_dir, 'test'), exist_ok=True)\n",
    "\n",
    "    os.makedirs(os.path.join(new_labels_dir, 'train'), exist_ok=True)\n",
    "    os.makedirs(os.path.join(new_labels_dir, 'valid'), exist_ok=True)\n",
    "    os.makedirs(os.path.join(new_labels_dir, 'test'), exist_ok=True)\n",
    "\n",
    "    # Define old directories\n",
    "    old_dirs = ['train', 'valid', 'test']\n",
    "\n",
    "    for old_dir in old_dirs:\n",
    "        # Define paths for old images and labels\n",
    "        old_images_dir = os.path.join(base_dir, old_dir, 'images')\n",
    "        old_labels_dir = os.path.join(base_dir, old_dir, 'labels')\n",
    "\n",
    "        # Move images\n",
    "        if os.path.exists(old_images_dir):\n",
    "            for image_file in os.listdir(old_images_dir):\n",
    "                shutil.move(os.path.join(old_images_dir, image_file), os.path.join(new_images_dir, old_dir, image_file))\n",
    "\n",
    "        # Move labels\n",
    "        if os.path.exists(old_labels_dir):\n",
    "            for label_file in os.listdir(old_labels_dir):\n",
    "                shutil.move(os.path.join(old_labels_dir, label_file), os.path.join(new_labels_dir, old_dir, label_file))\n",
    "\n",
    "    print(\"Restructuring complete.\")\n",
    "\n",
    "# Specify the base directory of your dataset\n",
    "base_dir = r'E:\\PML_yollo9\\yolov9\\data\\Aerial View Vehicle Detection.v1i.yolov8'  # Update this path as needed\n",
    "\n",
    "restructure_dataset(base_dir)\n"
   ]
  },
  {
   "cell_type": "code",
   "execution_count": 3,
   "metadata": {},
   "outputs": [
    {
     "name": "stdout",
     "output_type": "stream",
     "text": [
      "Updated paths saved to E:\\PML_yollo9\\yolov9\\data\\Aerial View Vehicle Detection.v1i.yolov8\\trrain.txt.\n"
     ]
    }
   ],
   "source": [
    "# Define the input and output file names\n",
    "input_file = r'E:\\PML_yollo9\\yolov9\\data\\Aerial View Vehicle Detection.v1i.yolov8\\train.txt'  # Replace with your actual input file name\n",
    "output_file = r'E:\\PML_yollo9\\yolov9\\data\\Aerial View Vehicle Detection.v1i.yolov8\\trrain.txt'  # The file where the updated paths will be saved\n",
    "\n",
    "# Read the paths from the input file\n",
    "with open(input_file, 'r') as f:\n",
    "    paths = f.readlines()\n",
    "\n",
    "# Prepend './images/train/' to each path\n",
    "updated_paths = [f\"./images/train/{path.strip()}\\n\" for path in paths]\n",
    "\n",
    "# Write the updated paths to the output file\n",
    "with open(output_file, 'w') as f:\n",
    "    f.writelines(updated_paths)\n",
    "\n",
    "print(f\"Updated paths saved to {output_file}.\")\n"
   ]
  },
  {
   "cell_type": "code",
   "execution_count": 5,
   "metadata": {},
   "outputs": [
    {
     "name": "stdout",
     "output_type": "stream",
     "text": [
      "Updated paths saved to E:\\PML_yollo9\\yolov9\\data\\Aerial View Vehicle Detection.v1i.yolov8\\vvalid.txt.\n"
     ]
    }
   ],
   "source": [
    "# Define the input and output file names\n",
    "input_file = r'E:\\PML_yollo9\\yolov9\\data\\Aerial View Vehicle Detection.v1i.yolov8\\valid.txt'  # Replace with your actual input file name\n",
    "output_file = r'E:\\PML_yollo9\\yolov9\\data\\Aerial View Vehicle Detection.v1i.yolov8\\vvalid.txt'  # The file where the updated paths will be saved\n",
    "\n",
    "# Read the paths from the input file\n",
    "with open(input_file, 'r') as f:\n",
    "    paths = f.readlines()\n",
    "\n",
    "# Prepend './images/train/' to each path\n",
    "updated_paths = [f\"./images/valid/{path.strip()}\\n\" for path in paths]\n",
    "\n",
    "# Write the updated paths to the output file\n",
    "with open(output_file, 'w') as f:\n",
    "    f.writelines(updated_paths)\n",
    "\n",
    "print(f\"Updated paths saved to {output_file}.\")\n"
   ]
  },
  {
   "cell_type": "code",
   "execution_count": null,
   "metadata": {},
   "outputs": [],
   "source": []
  }
 ],
 "metadata": {
  "kernelspec": {
   "display_name": "PML",
   "language": "python",
   "name": "python3"
  },
  "language_info": {
   "codemirror_mode": {
    "name": "ipython",
    "version": 3
   },
   "file_extension": ".py",
   "mimetype": "text/x-python",
   "name": "python",
   "nbconvert_exporter": "python",
   "pygments_lexer": "ipython3",
   "version": "3.12.5"
  }
 },
 "nbformat": 4,
 "nbformat_minor": 2
}
